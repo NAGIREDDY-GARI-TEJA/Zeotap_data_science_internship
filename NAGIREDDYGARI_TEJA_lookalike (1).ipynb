{
  "cells": [
    {
      "cell_type": "code",
      "execution_count": null,
      "id": "43b0e1ac-fd6e-4950-b642-2ec4de48b793",
      "metadata": {
        "id": "43b0e1ac-fd6e-4950-b642-2ec4de48b793",
        "outputId": "9f4e6b07-c983-4eb9-8ae7-c577dd47013f"
      },
      "outputs": [
        {
          "name": "stdout",
          "output_type": "stream",
          "text": [
            "  CustomerID        CustomerName         Region  SignupDate\n",
            "0      C0001    Lawrence Carroll  South America  2022-07-10\n",
            "1      C0002      Elizabeth Lutz           Asia  2022-02-13\n",
            "2      C0003      Michael Rivera  South America  2024-03-07\n",
            "3      C0004  Kathleen Rodriguez  South America  2022-10-09\n",
            "4      C0005         Laura Weber           Asia  2022-08-15\n",
            "  ProductID              ProductName     Category   Price\n",
            "0      P001     ActiveWear Biography        Books  169.30\n",
            "1      P002    ActiveWear Smartwatch  Electronics  346.30\n",
            "2      P003  ComfortLiving Biography        Books   44.12\n",
            "3      P004            BookWorld Rug   Home Decor   95.69\n",
            "4      P005          TechPro T-Shirt     Clothing  429.31\n",
            "  TransactionID CustomerID ProductID      TransactionDate  Quantity  \\\n",
            "0        T00001      C0199      P067  2024-08-25 12:38:23         1   \n",
            "1        T00112      C0146      P067  2024-05-27 22:23:54         1   \n",
            "2        T00166      C0127      P067  2024-04-25 07:38:55         1   \n",
            "3        T00272      C0087      P067  2024-03-26 22:55:37         2   \n",
            "4        T00363      C0070      P067  2024-03-21 15:10:10         3   \n",
            "\n",
            "   TotalValue   Price  \n",
            "0      300.68  300.68  \n",
            "1      300.68  300.68  \n",
            "2      300.68  300.68  \n",
            "3      601.36  300.68  \n",
            "4      902.04  300.68  \n",
            "CustomerID      0\n",
            "CustomerName    0\n",
            "Region          0\n",
            "SignupDate      0\n",
            "dtype: int64\n",
            "ProductID      0\n",
            "ProductName    0\n",
            "Category       0\n",
            "Price          0\n",
            "dtype: int64\n",
            "TransactionID      0\n",
            "CustomerID         0\n",
            "ProductID          0\n",
            "TransactionDate    0\n",
            "Quantity           0\n",
            "TotalValue         0\n",
            "Price              0\n",
            "dtype: int64\n",
            "       CustomerID      CustomerName         Region  SignupDate\n",
            "count         200               200            200         200\n",
            "unique        200               200              4         179\n",
            "top         C0001  Lawrence Carroll  South America  2024-11-11\n",
            "freq            1                 1             59           3\n",
            "            Price\n",
            "count  100.000000\n",
            "mean   267.551700\n",
            "std    143.219383\n",
            "min     16.080000\n",
            "25%    147.767500\n",
            "50%    292.875000\n",
            "75%    397.090000\n",
            "max    497.760000\n",
            "          Quantity   TotalValue       Price\n",
            "count  1000.000000  1000.000000  1000.00000\n",
            "mean      2.537000   689.995560   272.55407\n",
            "std       1.117981   493.144478   140.73639\n",
            "min       1.000000    16.080000    16.08000\n",
            "25%       2.000000   295.295000   147.95000\n",
            "50%       3.000000   588.880000   299.93000\n",
            "75%       4.000000  1011.660000   404.40000\n",
            "max       4.000000  1991.040000   497.76000\n"
          ]
        }
      ],
      "source": [
        "import pandas as pd\n",
        "import matplotlib.pyplot as plt\n",
        "import seaborn as sns\n",
        "\n",
        "# Load the datasets\n",
        "customers = pd.read_csv('Customers.csv')\n",
        "products = pd.read_csv('Products.csv')\n",
        "transactions = pd.read_csv('Transactions.csv')\n",
        "\n",
        "# Display the first few rows of each dataset\n",
        "print(customers.head())\n",
        "print(products.head())\n",
        "print(transactions.head())\n",
        "\n",
        "# Check for missing values\n",
        "print(customers.isnull().sum())\n",
        "print(products.isnull().sum())\n",
        "print(transactions.isnull().sum())\n",
        "\n",
        "# Basic statistics\n",
        "print(customers.describe())\n",
        "print(products.describe())\n",
        "print(transactions.describe())"
      ]
    },
    {
      "cell_type": "markdown",
      "id": "53531fd0-71fd-475f-8ef6-788502840b1e",
      "metadata": {
        "id": "53531fd0-71fd-475f-8ef6-788502840b1e"
      },
      "source": [
        "## Task - 2"
      ]
    },
    {
      "cell_type": "code",
      "execution_count": null,
      "id": "2cea94fd-25fd-47b1-bd7c-5e5ffd299ed1",
      "metadata": {
        "id": "2cea94fd-25fd-47b1-bd7c-5e5ffd299ed1"
      },
      "outputs": [],
      "source": [
        "import pandas as pd\n",
        "from sklearn.preprocessing import MinMaxScaler\n",
        "\n",
        "# Load the datasets\n",
        "customers = pd.read_csv('Customers.csv')\n",
        "products = pd.read_csv('Products.csv')\n",
        "transactions = pd.read_csv('Transactions.csv')\n",
        "\n",
        "# Merge transactions with customers and products\n",
        "merged_data = pd.merge(transactions, customers, on='CustomerID', how='left')\n",
        "merged_data = pd.merge(merged_data, products, on='ProductID', how='left')\n",
        "\n",
        "# Create customer profiles\n",
        "customer_profiles = merged_data.groupby('CustomerID').agg({\n",
        "    'TotalValue': 'sum',  # Total spending by the customer\n",
        "    'Quantity': 'sum',    # Total quantity purchased by the customer\n",
        "    'Price_x': 'mean',    # Average price of products purchased (from Transactions.csv)\n",
        "    'Region': 'first',    # Region of the customer\n",
        "    'Category': lambda x: x.mode()[0]  # Most frequent category purchased\n",
        "}).reset_index()\n",
        "\n",
        "# Rename columns for clarity\n",
        "customer_profiles.rename(columns={'Price_x': 'AvgPrice'}, inplace=True)\n",
        "\n",
        "# Normalize the data for similarity calculation\n",
        "scaler = MinMaxScaler()\n",
        "customer_profiles[['TotalValue', 'Quantity', 'AvgPrice']] = scaler.fit_transform(\n",
        "    customer_profiles[['TotalValue', 'Quantity', 'AvgPrice']]\n",
        ")"
      ]
    },
    {
      "cell_type": "code",
      "execution_count": null,
      "id": "b0bae12f-ed6b-41f2-9fb2-1c2423266e9b",
      "metadata": {
        "id": "b0bae12f-ed6b-41f2-9fb2-1c2423266e9b"
      },
      "outputs": [],
      "source": [
        "from sklearn.metrics.pairwise import cosine_similarity\n",
        "\n",
        "# Calculate cosine similarity between customers\n",
        "similarity_matrix = cosine_similarity(customer_profiles[['TotalValue', 'Quantity', 'AvgPrice']])\n",
        "\n",
        "# Function to get top 3 similar customers\n",
        "def get_top_similar_customers(customer_id, similarity_matrix, top_n=3):\n",
        "    customer_index = customer_profiles[customer_profiles['CustomerID'] == customer_id].index[0]\n",
        "    similarities = similarity_matrix[customer_index]\n",
        "    top_indices = similarities.argsort()[-top_n-1:-1][::-1]  # Get top N similar customers\n",
        "    top_customers = customer_profiles.iloc[top_indices]['CustomerID'].tolist()\n",
        "    top_scores = similarities[top_indices].tolist()\n",
        "    return list(zip(top_customers, top_scores))\n",
        "\n",
        "# Generate lookalike recommendations for the first 20 customers\n",
        "lookalike_recommendations = {}\n",
        "for customer_id in customer_profiles['CustomerID'].iloc[:20]:\n",
        "    lookalike_recommendations[customer_id] = get_top_similar_customers(customer_id, similarity_matrix)\n",
        "\n",
        "# Save the results to a CSV file\n",
        "import csv\n",
        "\n",
        "with open('Lookalike.csv', 'w', newline='') as file:\n",
        "    writer = csv.writer(file)\n",
        "    writer.writerow(['CustomerID', 'LookalikeID', 'SimilarityScore'])\n",
        "    for customer_id, recommendations in lookalike_recommendations.items():\n",
        "        for lookalike_id, score in recommendations:\n",
        "            writer.writerow([customer_id, lookalike_id, score])"
      ]
    },
    {
      "cell_type": "code",
      "execution_count": null,
      "id": "b6755c11-42a0-4485-acb7-4411c1be3653",
      "metadata": {
        "id": "b6755c11-42a0-4485-acb7-4411c1be3653"
      },
      "outputs": [],
      "source": []
    }
  ],
  "metadata": {
    "kernelspec": {
      "display_name": "Python 3 (ipykernel)",
      "language": "python",
      "name": "python3"
    },
    "language_info": {
      "codemirror_mode": {
        "name": "ipython",
        "version": 3
      },
      "file_extension": ".py",
      "mimetype": "text/x-python",
      "name": "python",
      "nbconvert_exporter": "python",
      "pygments_lexer": "ipython3",
      "version": "3.12.4"
    },
    "colab": {
      "provenance": []
    }
  },
  "nbformat": 4,
  "nbformat_minor": 5
}